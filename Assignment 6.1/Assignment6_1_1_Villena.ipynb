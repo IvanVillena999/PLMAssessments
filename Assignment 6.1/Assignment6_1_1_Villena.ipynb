{
  "nbformat": 4,
  "nbformat_minor": 0,
  "metadata": {
    "colab": {
      "provenance": []
    },
    "kernelspec": {
      "name": "python3",
      "display_name": "Python 3"
    },
    "language_info": {
      "name": "python"
    }
  },
  "cells": [
    {
      "cell_type": "markdown",
      "source": [
        "##Exercise 1"
      ],
      "metadata": {
        "id": "Sfr7cYS-PU62"
      }
    },
    {
      "cell_type": "code",
      "source": [
        "#Mean\n",
        "mean_salaries = sum(salaries)/len(salaries)\n",
        "print(f\"The Mean Salary is {mean_salaries}\")"
      ],
      "metadata": {
        "colab": {
          "base_uri": "https://localhost:8080/"
        },
        "id": "_gXJ4JJ5PBPw",
        "outputId": "b2e85c81-3fde-4792-e698-3ff012f8c1ac"
      },
      "execution_count": 6,
      "outputs": [
        {
          "output_type": "stream",
          "name": "stdout",
          "text": [
            "The Mean Salary is 5856720.0\n"
          ]
        }
      ]
    },
    {
      "cell_type": "code",
      "source": [
        "#Median\n",
        "print(len(salaries))\n",
        "sort_salaries = sorted(salaries)\n",
        "print(f\"The Median is {sort_salaries[49]}\")"
      ],
      "metadata": {
        "colab": {
          "base_uri": "https://localhost:8080/"
        },
        "id": "EGIK4roZPDV4",
        "outputId": "2baebf64-513c-4f4a-b5f0-2e4b0f7ecbd3"
      },
      "execution_count": 7,
      "outputs": [
        {
          "output_type": "stream",
          "name": "stdout",
          "text": [
            "100\n",
            "The Median is 5876000.0\n"
          ]
        }
      ]
    },
    {
      "cell_type": "code",
      "source": [
        "#Mode\n",
        "from collections import Counter\n",
        "\n",
        "print(Counter(sort_salaries))\n",
        "mode = Counter(sort_salaries).most_common(1)\n",
        "print(f\"The Mode is {mode}\")"
      ],
      "metadata": {
        "colab": {
          "base_uri": "https://localhost:8080/"
        },
        "id": "mbMI8ZJAPFbc",
        "outputId": "90bb7bc3-1759-494e-e755-9cd3519ac001"
      },
      "execution_count": 8,
      "outputs": [
        {
          "output_type": "stream",
          "name": "stdout",
          "text": [
            "Counter({6128000.0: 2, 11000.0: 1, 140000.0: 1, 804000.0: 1, 824000.0: 1, 898000.0: 1, 1007000.0: 1, 1091000.0: 1, 1867000.0: 1, 1894000.0: 1, 1911000.0: 1, 2386000.0: 1, 2439000.0: 1, 2505000.0: 1, 2589000.0: 1, 2605000.0: 1, 2756000.0: 1, 2818000.0: 1, 2903000.0: 1, 3033000.0: 1, 3101000.0: 1, 3201000.0: 1, 3252000.0: 1, 3849000.0: 1, 3913000.0: 1, 3988000.0: 1, 4049000.0: 1, 4206000.0: 1, 4342000.0: 1, 4450000.0: 1, 4480000.0: 1, 4506000.0: 1, 4721000.0: 1, 4765000.0: 1, 4766000.0: 1, 4770000.0: 1, 4864000.0: 1, 4936000.0: 1, 5047000.0: 1, 5079000.0: 1, 5113000.0: 1, 5403000.0: 1, 5406000.0: 1, 5474000.0: 1, 5487000.0: 1, 5513000.0: 1, 5675000.0: 1, 5757000.0: 1, 5797000.0: 1, 5834000.0: 1, 5876000.0: 1, 5898000.0: 1, 5963000.0: 1, 6032000.0: 1, 6109000.0: 1, 6184000.0: 1, 6567000.0: 1, 6602000.0: 1, 6682000.0: 1, 6840000.0: 1, 7053000.0: 1, 7066000.0: 1, 7197000.0: 1, 7298000.0: 1, 7558000.0: 1, 7576000.0: 1, 7580000.0: 1, 7838000.0: 1, 7933000.0: 1, 8032000.0: 1, 8050000.0: 1, 8102000.0: 1, 8116000.0: 1, 8145000.0: 1, 8248000.0: 1, 8425000.0: 1, 8444000.0: 1, 8495000.0: 1, 8653000.0: 1, 8676000.0: 1, 8705000.0: 1, 8768000.0: 1, 8950000.0: 1, 8982000.0: 1, 8988000.0: 1, 9022000.0: 1, 9081000.0: 1, 9097000.0: 1, 9130000.0: 1, 9169000.0: 1, 9231000.0: 1, 9234000.0: 1, 9328000.0: 1, 9498000.0: 1, 9638000.0: 1, 9666000.0: 1, 9675000.0: 1, 9828000.0: 1, 9963000.0: 1})\n",
            "The Mode is [(6128000.0, 2)]\n"
          ]
        }
      ]
    },
    {
      "cell_type": "code",
      "source": [
        "#Variance\n",
        "numerator = [x - mean_salaries for x in sort_salaries]\n",
        "squared = [x**2 for x in numerator]\n",
        "new_n = len(sort_salaries)-1\n",
        "sum = 0\n",
        "\n",
        "for x in squared :\n",
        "    sum += x\n",
        "\n",
        "var = sum/new_n\n",
        "print(f\"The Variance is {var}\")"
      ],
      "metadata": {
        "colab": {
          "base_uri": "https://localhost:8080/"
        },
        "id": "U71HlaDcPKsV",
        "outputId": "e6cb4c2a-0375-4e9c-e7c0-06f0dd5069c4"
      },
      "execution_count": 9,
      "outputs": [
        {
          "output_type": "stream",
          "name": "stdout",
          "text": [
            "The Variance is 7066255112727.272\n"
          ]
        }
      ]
    },
    {
      "cell_type": "code",
      "source": [
        "#Square root\n",
        "\n",
        "std = var**(1/2)\n",
        "print(f\"The Standard Deviation is {std}\")"
      ],
      "metadata": {
        "colab": {
          "base_uri": "https://localhost:8080/"
        },
        "id": "2V7gwzYkPMtI",
        "outputId": "80dc249b-a812-4c0e-b39a-0e01fefafa56"
      },
      "execution_count": 10,
      "outputs": [
        {
          "output_type": "stream",
          "name": "stdout",
          "text": [
            "The Standard Deviation is 2658242.8618783634\n"
          ]
        }
      ]
    },
    {
      "cell_type": "markdown",
      "source": [
        "##Exercise 2"
      ],
      "metadata": {
        "id": "UDVmTcGgPZho"
      }
    },
    {
      "cell_type": "code",
      "source": [
        "import statistics"
      ],
      "metadata": {
        "id": "QjWkuRfZPNTJ"
      },
      "execution_count": 11,
      "outputs": []
    },
    {
      "cell_type": "code",
      "source": [
        "#Range\n",
        "high_value = max(sort_salaries)\n",
        "low_value = min(sort_salaries)\n",
        "range = high_value - low_value\n",
        "print(f\"The Range is {range}\")"
      ],
      "metadata": {
        "colab": {
          "base_uri": "https://localhost:8080/"
        },
        "id": "6oMO0aQGPc1K",
        "outputId": "fc997a27-059c-41d4-e0f9-8a0409dfb7ce"
      },
      "execution_count": 12,
      "outputs": [
        {
          "output_type": "stream",
          "name": "stdout",
          "text": [
            "The Range is 9952000.0\n"
          ]
        }
      ]
    },
    {
      "cell_type": "code",
      "source": [
        "#Coefficient of Variation\n",
        "\n",
        "coef_v = std/mean_salaries\n",
        "\n",
        "print(f\"The Coefficient of Variation is {coef_v}\")"
      ],
      "metadata": {
        "colab": {
          "base_uri": "https://localhost:8080/"
        },
        "id": "iyO0r65wPebA",
        "outputId": "77a2d38a-b7db-4414-d089-e80481e91ec6"
      },
      "execution_count": 13,
      "outputs": [
        {
          "output_type": "stream",
          "name": "stdout",
          "text": [
            "The Coefficient of Variation is 0.4538791101296226\n"
          ]
        }
      ]
    },
    {
      "cell_type": "code",
      "source": [
        "#IQR\n",
        "\n",
        "first_q = sort_salaries[25]\n",
        "third_q = sort_salaries[75]\n",
        "iqr = third_q - first_q\n",
        "print(f\"The Interquartile Range is {iqr}\")\n"
      ],
      "metadata": {
        "colab": {
          "base_uri": "https://localhost:8080/"
        },
        "id": "Ag0V752SPf32",
        "outputId": "ee218490-9e4e-477f-f1a4-560968b8d40c"
      },
      "execution_count": 14,
      "outputs": [
        {
          "output_type": "stream",
          "name": "stdout",
          "text": [
            "The Interquartile Range is 4199000.0\n"
          ]
        }
      ]
    },
    {
      "cell_type": "code",
      "source": [
        "#Coefficient of Quartile Dispersion\n",
        "\n",
        "coef_qd = (iqr/mean_salaries)*std\n",
        "print(f\"The Coefficient of Quartile Deviation is {coef_qd}\")"
      ],
      "metadata": {
        "colab": {
          "base_uri": "https://localhost:8080/"
        },
        "id": "8gbYOKlRPhQl",
        "outputId": "2857c6a1-7035-472c-de26-921f09e8e21d"
      },
      "execution_count": 15,
      "outputs": [
        {
          "output_type": "stream",
          "name": "stdout",
          "text": [
            "The Coefficient of Quartile Deviation is 1905838.3834342854\n"
          ]
        }
      ]
    }
  ]
}